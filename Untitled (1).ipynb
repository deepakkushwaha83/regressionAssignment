{
 "cells": [
  {
   "cell_type": "markdown",
   "id": "ad3c2572-c345-4c0f-9e3a-176ba5077baf",
   "metadata": {},
   "source": [
    "# *Regression Assignments*"
   ]
  },
  {
   "cell_type": "markdown",
   "id": "31cd3c93-2210-4688-853d-32c8ee660831",
   "metadata": {},
   "source": [
    "### Q.1 What is Simple Linear Regression?\n",
    "Ans. Simple Linear Regression is a statistical method used to study the relationship between two continuous variables:\n",
    "- Independent variable (X): The predictor/input variable\n",
    "- Dependent variable (Y): The output/response variable"
   ]
  },
  {
   "cell_type": "markdown",
   "id": "a6b0ea06-b839-4552-87e6-89921d042f8f",
   "metadata": {},
   "source": [
    "### Q.2 What are the key assumptions of Simple Linear Regression?\n",
    "Ans. Here are the key assumptions of Simple Linear Regression:\n",
    "- Linearity:-\n",
    "    The relationship between X and Y is linear.\n",
    "- Independence:-\n",
    "    The observations are independent of each other.\n",
    "- Homoscedasticity:-\n",
    "    The variance of errors (residuals) is constant across all levels of X.\n",
    "- Normality of errors:-\n",
    "    The residuals (differences between actual and predicted Y) should be normally distributed.\n",
    "- No or little multicollinearity:-\n",
    "    (Only relevant for multiple regression, not simple regression)\n",
    "     Since simple linear regression has only one independent variable, this doesn’t apply here."
   ]
  },
  {
   "cell_type": "markdown",
   "id": "4a6af236-649d-478e-b7b6-7fb7326efae4",
   "metadata": {},
   "source": [
    "### Q.3  What does the coefficient m represent in the equation Y=mX+c?\n",
    "Ans. In the equation Y=mX+c:\n",
    "- m is the coefficient or slope of the line.\n",
    "- It represents how much Y changes for a one-unit increase in X."
   ]
  },
  {
   "cell_type": "markdown",
   "id": "b6c7f402-2d03-4a3c-ab8a-e856ad49e92f",
   "metadata": {},
   "source": [
    "### Q.4 What does the intercept c represent in the equation Y=mX+c?\n",
    "Ans. It tells you where the line crosses the Y-axis on a graph."
   ]
  },
  {
   "cell_type": "markdown",
   "id": "5a3502ee-483e-4c96-8e6a-89b8557bdf6e",
   "metadata": {},
   "source": [
    "### Q.5 How do we calculate the slope m in Simple Linear Regression?\n",
    "Ans.    m= n(∑XY)−(∑X)(∑XY) / n(∑X^2)-(∑X^2)\n"
   ]
  },
  {
   "cell_type": "markdown",
   "id": "3fc89dc0-3f25-406c-9d19-9352670b2461",
   "metadata": {},
   "source": [
    "### 6 What is the purpose of the least squares method in Simple Linear Regression?\n",
    "Ans.\n",
    "- It ensures the most accurate line for prediction.\n",
    "- Reduces overall prediction error.\n",
    "- Makes the model more reliable."
   ]
  },
  {
   "cell_type": "markdown",
   "id": "1c6c405f-5359-4c49-b58e-baff71aee5c8",
   "metadata": {},
   "source": [
    "### Q.7 How is the coefficient of determination (R²) interpreted in Simple Linear Regression?\n",
    "Ans. In Simple Linear Regression, the coefficient of determination measures how well the regression line fits the data."
   ]
  },
  {
   "cell_type": "markdown",
   "id": "01d54583-096d-4c51-afb6-6674358a4afa",
   "metadata": {},
   "source": [
    "### Q.8 What is Multiple Linear Regression?\n",
    "Ans. Multiple Linear Regression is an extension of Simple Linear Regression, where two or more independent variables (X1, X2, X3, …) are used to predict a single dependent variable (Y)."
   ]
  },
  {
   "cell_type": "markdown",
   "id": "123cd79f-fe2e-4644-9cee-d16e36f126bc",
   "metadata": {},
   "source": [
    "### Q.9 What is the main difference between Simple and Multiple Linear Regression?\n",
    "Ans. The main difference between Simple and Multiple Linear Regression is the number of independent variables used to predict the dependent variable."
   ]
  },
  {
   "cell_type": "markdown",
   "id": "a7d28eaa-e545-406b-859e-057784640ae0",
   "metadata": {},
   "source": [
    "### Q.10 What are the key assumptions of Multiple Linear Regression?\n",
    "Ans. \n",
    "1. Linearity:-\n",
    "    The relationship between the dependent variable and each independent variable is linear.\n",
    "\n",
    "2. Independence of errors:-\n",
    "    The residuals (errors) are independent of each other.\n",
    "    Checked using the Durbin-Watson test.\n",
    "\n",
    "3. Homoscedasticity:-\n",
    "    The variance of residuals is constant across all levels of the independent variables.\n",
    "\n",
    "4. No multicollinearity:-\n",
    "    The independent variables are not highly correlated with each other.\n",
    "    Checked using VIF (Variance Inflation Factor) — VIF > 5 or 10 indicates a problem.\n",
    "\n",
    "   \n",
    "6. Normality of residuals:-\n",
    "The residuals (differences between actual and predicted values) are normally distributed"
   ]
  },
  {
   "cell_type": "markdown",
   "id": "010cd14a-8469-4e0b-8880-8c02abe40fd2",
   "metadata": {},
   "source": [
    "### Q.11 What is heteroscedasticity, and how does it affect the results of a Multiple Linear Regression model?\n",
    "Ans Heteroscedasticity refers to a situation where the variance of the residuals (errors) is not constant across all levels of the independent variables in a Multiple Linear Regression model.\n",
    "*How Heteroscedasticity Affects the Model:*\n",
    "- Biased Standard Errors:\n",
    "    The estimated standard errors of the regression coefficients become biased, leading to incorrect significance tests.\n",
    "    This may cause you to incorrectly accept or reject hypotheses about the coefficients.\n",
    "\n",
    "- Inefficient Estimates:\n",
    "While the coefficients (b) remain unbiased, they are no longer efficient, meaning the regression model will not produce the most accurate estimates possible.\n",
    "\n",
    "- Invalid Confidence Intervals:\n",
    "    Confidence intervals for the coefficients and predictions become invalid.\n",
    "    This reduces the reliability of the model's predictions.\n",
    "\n",
    "- Inaccurate Predictions:\n",
    "    Predictions may be less reliable because of the changing variability in residuals."
   ]
  },
  {
   "cell_type": "markdown",
   "id": "2d205733-8e96-46f6-b4b0-d291f558b917",
   "metadata": {},
   "source": [
    "### Q.12  How can you improve a Multiple Linear Regression model with high multicollinearity?\n",
    "Ans. To improve a Multiple Linear Regression model with high multicollinearity, you can take several steps to reduce or eliminate the problem. High multicollinearity occurs when two or more independent variables are highly correlated with each other, which can make it difficult to estimate the relationship between the dependent variable and each independent variable accurately."
   ]
  },
  {
   "cell_type": "markdown",
   "id": "fc9b9944-63e8-47c8-bc5c-18875cb2ef3a",
   "metadata": {},
   "source": [
    "### Q.13 What are some common techniques for transforming categorical variables for use in regression models\n",
    "Ans. Transforming categorical variables into a format that can be used in regression models is essential, as most regression models require numeric input. Here are some common techniques for transforming categorical variables:\n",
    "1. One-Hot Encoding (Dummy Variables)\n",
    "2. Label Encoding\n",
    "3. Ordinal Encoding\n",
    "4. Binary Encoding\n",
    "5. Frequency or Count Encoding\n"
   ]
  },
  {
   "cell_type": "markdown",
   "id": "897de7a1-8730-4d06-b566-d62e26d7ab5f",
   "metadata": {},
   "source": [
    "### Q.14 What is the role of interaction terms in Multiple Linear Regression?\n",
    "Ans. Interaction terms in Multiple Linear Regression are used to model the combined effect of two or more independent variables on the dependent variable that cannot be captured by the individual effects of the variables alone."
   ]
  },
  {
   "cell_type": "markdown",
   "id": "42099081-0af8-428e-9e3f-9b5fe8299380",
   "metadata": {},
   "source": [
    "### Q.15 How can the interpretation of intercept differ between Simple and Multiple Linear Regression? \n",
    "Ans. *Intercept in Simple Linear Regression:-* In Simple Linear Regression, the model is based on one independent variable\n",
    "                    Y = a + bX\n",
    "            Intercept a : The intercept represents the value of the dependent variable Y when the independent variable X is 0.\n",
    "It answers the question: \"What is the predicted value of Y when X = 0?\"\n",
    "\n",
    "\n",
    "*Intercept in Multiple Linear Regression:-* In Multiple Linear Regression, the model includes multiple independent variables.\n",
    "                    Y = a+ b1X1 + b2X2 ....bnXn\n",
    "                Intercept(a):The intercept represents the value of the dependent variable Y when all the independent variables X1,X2...Xn are 0\n",
    "                It answers the question: \"What is the predicted value of Y when all independent variables are 0?\""
   ]
  },
  {
   "cell_type": "markdown",
   "id": "377d5dad-f339-4b33-b59d-8ac0e03670b7",
   "metadata": {},
   "source": [
    "### Q.16 What is the significance of the slope in regression analysis, and how does it affect predictions?\n",
    "Ans. *Significance of the Slope:-*\n",
    "1. Represents the Relationship Between Variables\n",
    "2. Magnitude and Direction\n",
    "3. Indicates Strength of the Relationship\n",
    "\n",
    "   *How the Slope Affects Predictions:-*\n",
    "   The slope is key in making predictions because it tells you how the dependent variable (Y) is expected to change for any given value of the independent variable (X)."
   ]
  },
  {
   "cell_type": "markdown",
   "id": "2ef74b11-d70f-40e7-962f-c60ccf382a57",
   "metadata": {},
   "source": [
    "### Q.17  How does the intercept in a regression model provide context for the relationship between variables?\n",
    "Ans. The intercept in a regression model plays an important role in providing context for the relationship between the independent variable(s) and the dependent variable. It represents the baseline or starting value of the dependent variable when all independent variables are zero. However, its interpretation depends on the specific context of the model."
   ]
  },
  {
   "cell_type": "markdown",
   "id": "190b952d-da60-4f8b-b1d5-ef50bfe6867d",
   "metadata": {},
   "source": [
    "### Q.18 What are the limitations of using R² as a sole measure of model performance?\n",
    "Ans. *Limitations:-*\n",
    "1. Doesn’t Indicate Causality:- High R² doesn’t imply that the independent variables cause the changes in the dependent variable.\n",
    "2. Overfitting Risk:-Adding more variables increases R², even if the variables are irrelevant, leading to potential overfitting.\n",
    "3. Sensitivity to Outliers:-Extreme values can distort R², making it unreliable for some datasets"
   ]
  },
  {
   "cell_type": "markdown",
   "id": "dcfe8538-e435-4062-9a66-db74d1b707b9",
   "metadata": {},
   "source": [
    "### Q.19 How would you interpret a large standard error for a regression coefficient?\n",
    "Ans. A large standard error (SE) for a regression coefficient indicates that there is a high level of uncertainty or variability in the estimate of that coefficient. It suggests that the estimated coefficient might not be very reliable, and it may not accurately reflect the true relationship between the independent variable and the dependent variable."
   ]
  },
  {
   "cell_type": "markdown",
   "id": "161a61e6-9464-493c-abc5-ef9da06a046b",
   "metadata": {},
   "source": [
    "### Q.20  How can heteroscedasticity be identified in residual plots, and why is it important to address it\n",
    "Ans. Heteroscedasticity occurs when the variance of residuals is not constant across all levels of the independent variable(s). It can be identified in residual plots by:\n",
    "- Residuals vs. Fitted Values Plot: A funnel-shaped pattern indicates increasing or decreasing residual variance.\n",
    "- Scale-Location Plot: A fanning or cone shape suggests heteroscedasticity.\n",
    "\n",
    "*How to Address:*\n",
    "- Transform variables (e.g., log transformation).\n",
    "- Use robust standard errors to adjust for heteroscedasticity.\n",
    "- Weighted Least Squares (WLS) or Generalized Least Squares (GLS) for more efficient estimation."
   ]
  },
  {
   "cell_type": "markdown",
   "id": "352f892d-b9a3-4506-8a44-552ed1c5395a",
   "metadata": {},
   "source": [
    "### Q.21 What does it mean if a Multiple Linear Regression model has a high R² but low adjusted R²?\n",
    "Ans. A high R² with a low adjusted R² indicates overfitting, where the model fits the training data well but may not generalize well to new data. The high R² is due to adding many predictors, even irrelevant ones, while the low adjusted R² accounts for this by penalizing unnecessary variables, showing that the model may be too complex for the data."
   ]
  },
  {
   "cell_type": "markdown",
   "id": "bc866b40-f6f0-4543-b7b4-1bc986d6508b",
   "metadata": {},
   "source": [
    "### Q.22 Why is it important to scale variables in Multiple Linear Regression\n",
    "Ans. Scaling variables in Multiple Linear Regression is important because:\n",
    "- Improves interpretation by making coefficients comparable.\n",
    "- Avoids bias in model estimation, especially with regularization.\n",
    "- Faster convergence in gradient descent.\n",
    "- Helps manage multicollinearity.\n",
    "- Enables comparison of feature importance."
   ]
  },
  {
   "cell_type": "markdown",
   "id": "60632ba3-f587-497f-a689-21dddf5cae6e",
   "metadata": {},
   "source": [
    "### Q.23  What is polynomial regression?\n",
    "Ans. Polynomial Regression is a type of linear regression where the relationship between the independent variable (X) and the dependent variable (Y) is modeled as an nth-degree polynomial rather than a straight line. It extends Simple Linear Regression by adding polynomial terms (squared, cubed, etc.) of the predictor variable(s)."
   ]
  },
  {
   "cell_type": "markdown",
   "id": "3708dd0d-7c1b-4c56-b659-6f5e43321102",
   "metadata": {},
   "source": [
    "### Q.24  How does polynomial regression differ from linear regression?\n",
    "Ans. Polynomial Regression differs from Linear Regression in the way the relationship between the independent variable(s) and the dependent variable is modeled.\n",
    "Linear Regression fits straight lines, while Polynomial Regression fits curves by adding higher-degree terms of the independent variable."
   ]
  },
  {
   "cell_type": "markdown",
   "id": "28702b1a-5617-4bf3-bf45-7329fbdb90ff",
   "metadata": {},
   "source": [
    "### Q.25  When is polynomial regression used?\n",
    "Ans. We will use polynomial regression when you need to model non-linear relationships in the data while keeping the model structured with polynomials."
   ]
  },
  {
   "cell_type": "markdown",
   "id": "d542f91c-57d9-4328-9175-670f51f27b07",
   "metadata": {},
   "source": [
    "### Q.26 What is the general equation for polynomial regression?\n",
    "Ans. The general equation for Polynomial Regression is:\n",
    "        Y= β0 + β1X + β2X^2 + β3X^3 + ..... βnX^n + e"
   ]
  },
  {
   "cell_type": "markdown",
   "id": "90ff13d7-9a27-42c4-a2e2-5e03c0ed0c47",
   "metadata": {},
   "source": [
    "### Q.27 Can polynomial regression be applied to multiple variables?\n",
    "Ans. Yes, Polynomial Regression can be applied to multiple variables. When applied to multiple variables, it's referred to as Multiple Polynomial Regression or Multivariable Polynomial Regression"
   ]
  },
  {
   "cell_type": "markdown",
   "id": "e9b1edb2-c655-4246-91dd-35994b630336",
   "metadata": {},
   "source": [
    "### Q.28 What are the limitations of polynomial regression?\n",
    "Ans. Polynomial Regression has several limitations, which can impact its effectiveness in modeling data. Some key limitations are:\n",
    "1. Overfitting:\n",
    "- Higher-degree polynomials can fit the training data very well, but they may overfit, meaning they capture noise or fluctuations in the data rather than the underlying trend. This leads to poor generalization on unseen data.\n",
    "\n",
    "2. Increased Complexity:\n",
    "- As you increase the degree of the polynomial, the model becomes more complex and harder to interpret. This can make it challenging to understand how the independent variables influence the dependent variable.\n",
    "\n",
    "3. Sensitive to Outliers:\n",
    "-Polynomial regression is sensitive to outliers, and outliers can have a disproportionate effect on the fit, especially when using higher-degree polynomials."
   ]
  },
  {
   "cell_type": "markdown",
   "id": "c9245de7-1cb8-42bc-bac4-219700204add",
   "metadata": {},
   "source": [
    "### Q.29 What methods can be used to evaluate model fit when selecting the degree of a polynomial?\n",
    "Ans. To select the optimal polynomial degree:\n",
    "- Cross-Validation: Use K-fold cross-validation to assess generalization.\n",
    "- Adjusted R²: Compare models to avoid overfitting by penalizing unnecessary terms.\n",
    "- MSE/RMSE: Lower values indicate a better model fit.\n",
    "- Train-Test Split: Ensure good performance on both training and test data.\n",
    "- Residual Plots: Check for randomness in residuals to avoid underfitting.\n",
    "- AIC/BIC: Use these criteria to balance model fit and complexity.\n",
    "- Visual Inspection: Plot predictions against actual data for a visual check."
   ]
  },
  {
   "cell_type": "markdown",
   "id": "2c69bc3c-b30a-4546-9886-a6d05285fbf4",
   "metadata": {},
   "source": [
    "### Q.30 Why is visualization important in polynomial regression?\n",
    "Ans. Visualization in polynomial regression helps to:\n",
    "1. Understand Relationships: See how well the model fits the data.\n",
    "2. Detect Overfitting: Check if the curve is too complex.\n",
    "3. Evaluate Residuals: Ensure residuals are random, not patterned.\n",
    "4. Assess Performance: Compare predicted vs. actual values.\n",
    "5. Select Polynomial Degree: Visualize if higher degrees improve or overfit the model."
   ]
  },
  {
   "cell_type": "markdown",
   "id": "3bc459fb-7fcd-4671-a19c-f4d42b8d7815",
   "metadata": {},
   "source": [
    "### Q.31  How is polynomial regression implemented in Python?\n",
    "Ans. To implement Polynomial Regression in Python, you can use libraries like NumPy for creating polynomial features and scikit-learn for building the regression model. Here's the python code below:"
   ]
  },
  {
   "cell_type": "code",
   "execution_count": 3,
   "id": "f84257b2-413f-495a-9476-8ae6e802dad9",
   "metadata": {},
   "outputs": [
    {
     "name": "stderr",
     "output_type": "stream",
     "text": [
      "C:\\Users\\hp\\AppData\\Local\\Temp\\ipykernel_5844\\1094085316.py:29: DeprecationWarning: Conversion of an array with ndim > 0 to a scalar is deprecated, and will error in future. Ensure you extract a single element from your array before performing this operation. (Deprecated NumPy 1.25.)\n",
      "  X_grid = np.arange(min(X), max(X), 0.1).reshape(-1, 1)\n"
     ]
    },
    {
     "data": {
      "image/png": "[encoded data removed]",
      "text/plain": [
       "<Figure size 640x480 with 1 Axes>"
      ]
     },
     "metadata": {},
     "output_type": "display_data"
    }
   ],
   "source": [
    "# regression code\n",
    "import numpy as np\n",
    "import matplotlib.pyplot as plt\n",
    "from sklearn.model_selection import train_test_split\n",
    "from sklearn.linear_model import LinearRegression\n",
    "from sklearn.preprocessing import PolynomialFeatures\n",
    "\n",
    "# Sample Data\n",
    "X = np.array([[1], [2], [3], [4], [5]])  \n",
    "Y = np.array([1, 4, 9, 16, 25])\n",
    "\n",
    "# Train-Test Split\n",
    "X_train, X_test, Y_train, Y_test = train_test_split(X, Y, test_size=0.2, random_state=0)\n",
    "\n",
    "# Polynomial Features Transformation\n",
    "degree = 2\n",
    "poly = PolynomialFeatures(degree=degree)\n",
    "X_poly = poly.fit_transform(X_train)\n",
    "\n",
    "# Fit Model\n",
    "model = LinearRegression()\n",
    "model.fit(X_poly, Y_train)\n",
    "\n",
    "# Predict\n",
    "X_test_poly = poly.transform(X_test)\n",
    "Y_pred = model.predict(X_test_poly)\n",
    "\n",
    "# Visualization\n",
    "X_grid = np.arange(min(X), max(X), 0.1).reshape(-1, 1)\n",
    "X_grid_poly = poly.transform(X_grid)\n",
    "Y_grid = model.predict(X_grid_poly)\n",
    "\n",
    "# Plot\n",
    "plt.scatter(X, Y, color='red')\n",
    "plt.plot(X_grid, Y_grid, color='blue')\n",
    "plt.title('Polynomial Regression')\n",
    "plt.xlabel('X')\n",
    "plt.ylabel('Y')\n",
    "plt.show()"
   ]
  }
 ],
 "metadata": {
  "kernelspec": {
   "display_name": "Python 3 (ipykernel)",
   "language": "python",
   "name": "python3"
  },
  "language_info": {
   "codemirror_mode": {
    "name": "ipython",
    "version": 3
   },
   "file_extension": ".py",
   "mimetype": "text/x-python",
   "name": "python",
   "nbconvert_exporter": "python",
   "pygments_lexer": "ipython3",
   "version": "3.12.4"
  }
 },
 "nbformat": 4,
 "nbformat_minor": 5
}
